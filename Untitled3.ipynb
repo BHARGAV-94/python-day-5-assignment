{
 "cells": [
  {
   "cell_type": "markdown",
   "metadata": {},
   "source": [
    "# 1.sorting by increasing order but all zeros at last"
   ]
  },
  {
   "cell_type": "code",
   "execution_count": 2,
   "metadata": {},
   "outputs": [
    {
     "name": "stdout",
     "output_type": "stream",
     "text": [
      "[1, 2, 10, 4, 1, 56, 2, 1, 3, 56, 4, 0, 0, 0, 0, 0]\n"
     ]
    }
   ],
   "source": [
    "lst1=[0,1,2,10,4,1,0,56,2,0,1,3,0,56,0,4]\n",
    "n = len(lst1) \n",
    "def fun1(lst1,n):\n",
    "    count=0\n",
    "    for i in range(n): \n",
    "        if lst1[i] != 0:\n",
    "            lst1[count] = lst1[i] \n",
    "            count+=1\n",
    "    while count < n: \n",
    "        lst1[count] = 0\n",
    "        count += 1\n",
    "        \n",
    "fun1(lst1,n) \n",
    "print(lst1)"
   ]
  },
  {
   "cell_type": "code",
   "execution_count": null,
   "metadata": {},
   "outputs": [],
   "source": []
  }
 ],
 "metadata": {
  "kernelspec": {
   "display_name": "Python 3",
   "language": "python",
   "name": "python3"
  },
  "language_info": {
   "codemirror_mode": {
    "name": "ipython",
    "version": 3
   },
   "file_extension": ".py",
   "mimetype": "text/x-python",
   "name": "python",
   "nbconvert_exporter": "python",
   "pygments_lexer": "ipython3",
   "version": "3.7.6"
  }
 },
 "nbformat": 4,
 "nbformat_minor": 4
}
